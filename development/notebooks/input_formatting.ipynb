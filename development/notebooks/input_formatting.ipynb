{
 "cells": [
  {
   "cell_type": "code",
   "execution_count": 49,
   "metadata": {
    "collapsed": true
   },
   "outputs": [],
   "source": [
    "import pandas as pd\n",
    "from sklearn import preprocessing as prep\n",
    "from sklearn.preprocessing import StandardScaler\n",
    "from sklearn.externals import joblib"
   ]
  },
  {
   "cell_type": "code",
   "execution_count": 50,
   "metadata": {},
   "outputs": [],
   "source": [
    "gameId = 2739286886\n",
    "team1_champs = [4, 28, 27, 81, 43]\n",
    "team2_champs = [134, 2, 29, 25, 50]\n",
    "champ_names = ['team1_champ1',\n",
    " 'team1_champ2',\n",
    " 'team1_champ3',\n",
    " 'team1_champ4',\n",
    " 'team1_champ5',\n",
    " 'team2_champ1',\n",
    " 'team2_champ2',\n",
    " 'team2_champ3',\n",
    " 'team2_champ4',\n",
    " 'team2_champ5']\n",
    "champs = pd.read_csv('data/cgg.csv')"
   ]
  },
  {
   "cell_type": "code",
   "execution_count": 51,
   "metadata": {
    "collapsed": true
   },
   "outputs": [],
   "source": [
    "df = pd.DataFrame(columns = champ_names, data = [team1_champs+team2_champs])"
   ]
  },
  {
   "cell_type": "code",
   "execution_count": 54,
   "metadata": {},
   "outputs": [],
   "source": [
    "def drop_y(dataframe):\n",
    "    # list comprehension of the columns that end with '_drop'\n",
    "    to_drop = [x for x in dataframe if x.endswith('_drop')]\n",
    "    dataframe.drop(to_drop, axis=1, inplace=True)\n",
    "\n",
    "\n",
    "scaler = joblib.load('../scaler.pkl')\n",
    "    \n",
    "# get needed references for stats collection\n",
    "champ_names = list(input_df)\n",
    "var_name = champs.columns[1:13]\n",
    "var_num = range(1, 13)\n",
    "\n",
    "# cumulative stats for each team\n",
    "for j in range(0, len(var_name)):\n",
    "\n",
    "    # merge games df with champion df for each stat\n",
    "    for i in range(0, 10):\n",
    "        df = pd.merge(df, champs.iloc[:, [0, var_num[j]]], left_on=champ_names[i], right_on='championId',\n",
    "                      suffixes=['_drop', '_drop'])\n",
    "        df.rename(columns={var_name[j]: var_name[j] + str(i + 1)}, inplace=True)\n",
    "\n",
    "    # drop duplicate columns created from merge\n",
    "    drop_y(df)\n",
    "\n",
    "    # aggregate stats for team 1\n",
    "    df['t1'] = df.iloc[:, -10:-5].sum(axis=1)\n",
    "    df = df.drop(df.iloc[:, -11:-6], axis=1)\n",
    "\n",
    "    # aggregate stats for team 2\n",
    "    df['t2'] = df.iloc[:, -6:-1].sum(axis=1)\n",
    "    df = df.drop(df.iloc[:, -7:-2], axis=1)\n",
    "\n",
    "    # take the stats difference between teams in reference to team 1\n",
    "    df['diff'] = df['t1'] - df['t2']\n",
    "    df.rename(columns={'diff': var_name[j]}, inplace=True)\n",
    "\n",
    "    # drop now unneeded 't1' and 't1' columns\n",
    "    df = df.drop(['t1', 't2'], axis=1)\n",
    "\n",
    "# drop gameId and champion id columns\n",
    "df = df.drop(df.iloc[:,0:10], axis=1)\n",
    "\n",
    "# standardize predictors\n",
    "df = pd.DataFrame(scaler.transform(df), columns=df.columns,\n",
    "                              index=df.index)"
   ]
  },
  {
   "cell_type": "code",
   "execution_count": 55,
   "metadata": {},
   "outputs": [
    {
     "data": {
      "text/html": [
       "<div>\n",
       "<style>\n",
       "    .dataframe thead tr:only-child th {\n",
       "        text-align: right;\n",
       "    }\n",
       "\n",
       "    .dataframe thead th {\n",
       "        text-align: left;\n",
       "    }\n",
       "\n",
       "    .dataframe tbody tr th {\n",
       "        vertical-align: top;\n",
       "    }\n",
       "</style>\n",
       "<table border=\"1\" class=\"dataframe\">\n",
       "  <thead>\n",
       "    <tr style=\"text-align: right;\">\n",
       "      <th></th>\n",
       "      <th>winRate</th>\n",
       "      <th>banRate</th>\n",
       "      <th>gamesPlayed</th>\n",
       "      <th>playRate</th>\n",
       "      <th>kills</th>\n",
       "      <th>deaths</th>\n",
       "      <th>assists</th>\n",
       "      <th>score</th>\n",
       "      <th>gold</th>\n",
       "      <th>damageTaken</th>\n",
       "      <th>totalHeal</th>\n",
       "      <th>totalDamage</th>\n",
       "    </tr>\n",
       "  </thead>\n",
       "  <tbody>\n",
       "    <tr>\n",
       "      <th>0</th>\n",
       "      <td>0.072149</td>\n",
       "      <td>0.013759</td>\n",
       "      <td>14362404</td>\n",
       "      <td>8.247778</td>\n",
       "      <td>-2.57362</td>\n",
       "      <td>-2.045501</td>\n",
       "      <td>3.335736</td>\n",
       "      <td>9.953661</td>\n",
       "      <td>247.362376</td>\n",
       "      <td>-5967.500392</td>\n",
       "      <td>-6947.094082</td>\n",
       "      <td>-3541.259207</td>\n",
       "    </tr>\n",
       "  </tbody>\n",
       "</table>\n",
       "</div>"
      ],
      "text/plain": [
       "    winRate   banRate  gamesPlayed  playRate    kills    deaths   assists  \\\n",
       "0  0.072149  0.013759     14362404  8.247778 -2.57362 -2.045501  3.335736   \n",
       "\n",
       "      score        gold  damageTaken    totalHeal  totalDamage  \n",
       "0  9.953661  247.362376 -5967.500392 -6947.094082 -3541.259207  "
      ]
     },
     "execution_count": 55,
     "metadata": {},
     "output_type": "execute_result"
    }
   ],
   "source": [
    "df"
   ]
  },
  {
   "cell_type": "code",
   "execution_count": 56,
   "metadata": {},
   "outputs": [
    {
     "data": {
      "text/html": [
       "<div>\n",
       "<style>\n",
       "    .dataframe thead tr:only-child th {\n",
       "        text-align: right;\n",
       "    }\n",
       "\n",
       "    .dataframe thead th {\n",
       "        text-align: left;\n",
       "    }\n",
       "\n",
       "    .dataframe tbody tr th {\n",
       "        vertical-align: top;\n",
       "    }\n",
       "</style>\n",
       "<table border=\"1\" class=\"dataframe\">\n",
       "  <thead>\n",
       "    <tr style=\"text-align: right;\">\n",
       "      <th></th>\n",
       "      <th>winRate</th>\n",
       "      <th>banRate</th>\n",
       "      <th>gamesPlayed</th>\n",
       "      <th>playRate</th>\n",
       "      <th>kills</th>\n",
       "      <th>deaths</th>\n",
       "      <th>assists</th>\n",
       "      <th>score</th>\n",
       "      <th>gold</th>\n",
       "      <th>damageTaken</th>\n",
       "      <th>totalHeal</th>\n",
       "      <th>totalDamage</th>\n",
       "    </tr>\n",
       "  </thead>\n",
       "  <tbody>\n",
       "    <tr>\n",
       "      <th>0</th>\n",
       "      <td>1.144843</td>\n",
       "      <td>0.433157</td>\n",
       "      <td>1.285671</td>\n",
       "      <td>1.285671</td>\n",
       "      <td>-0.730801</td>\n",
       "      <td>-1.183629</td>\n",
       "      <td>0.733751</td>\n",
       "      <td>1.392844</td>\n",
       "      <td>0.072847</td>\n",
       "      <td>-0.475567</td>\n",
       "      <td>-0.528843</td>\n",
       "      <td>-0.410655</td>\n",
       "    </tr>\n",
       "  </tbody>\n",
       "</table>\n",
       "</div>"
      ],
      "text/plain": [
       "    winRate   banRate  gamesPlayed  playRate     kills    deaths   assists  \\\n",
       "0  1.144843  0.433157     1.285671  1.285671 -0.730801 -1.183629  0.733751   \n",
       "\n",
       "      score      gold  damageTaken  totalHeal  totalDamage  \n",
       "0  1.392844  0.072847    -0.475567  -0.528843    -0.410655  "
      ]
     },
     "execution_count": 56,
     "metadata": {},
     "output_type": "execute_result"
    }
   ],
   "source": [
    "df = pd.DataFrame(scaler.transform(df), columns=df.columns,\n",
    "                              index=df.index)\n",
    "df"
   ]
  }
 ],
 "metadata": {
  "kernelspec": {
   "display_name": "Python [default]",
   "language": "python",
   "name": "python3"
  },
  "language_info": {
   "codemirror_mode": {
    "name": "ipython",
    "version": 3
   },
   "file_extension": ".py",
   "mimetype": "text/x-python",
   "name": "python",
   "nbconvert_exporter": "python",
   "pygments_lexer": "ipython3",
   "version": "3.6.1"
  }
 },
 "nbformat": 4,
 "nbformat_minor": 2
}
