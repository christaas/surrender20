{
 "cells": [
  {
   "cell_type": "code",
   "execution_count": 1,
   "metadata": {
    "collapsed": true
   },
   "outputs": [],
   "source": [
    "import pandas as pd\n",
    "from sklearn import preprocessing as prep\n",
    "from sklearn.preprocessing import StandardScaler\n",
    "from sklearn.externals import joblib"
   ]
  },
  {
   "cell_type": "code",
   "execution_count": 4,
   "metadata": {},
   "outputs": [],
   "source": [
    "gameId = 2739286886\n",
    "team1_champs = [4, 28, 27, 81, 43]\n",
    "team2_champs = [134, 2, 29, 25, 50]\n",
    "champ_names = ['team1_champ1',\n",
    " 'team1_champ2',\n",
    " 'team1_champ3',\n",
    " 'team1_champ4',\n",
    " 'team1_champ5',\n",
    " 'team2_champ1',\n",
    " 'team2_champ2',\n",
    " 'team2_champ3',\n",
    " 'team2_champ4',\n",
    " 'team2_champ5']\n",
    "champs = pd.read_csv('../data/interim/cgg.csv')"
   ]
  },
  {
   "cell_type": "code",
   "execution_count": 13,
   "metadata": {
    "collapsed": true
   },
   "outputs": [],
   "source": [
    "df = pd.DataFrame(columns = champ_names, data = [team1_champs+team2_champs])"
   ]
  },
  {
   "cell_type": "code",
   "execution_count": 8,
   "metadata": {},
   "outputs": [],
   "source": [
    "def drop_y(dataframe):\n",
    "    # list comprehension of the columns that end with '_drop'\n",
    "    to_drop = [x for x in dataframe if x.endswith('_drop')]\n",
    "    dataframe.drop(to_drop, axis=1, inplace=True)\n",
    "\n",
    "\n",
    "scaler = joblib.load('../models/scaler.pkl')\n",
    "    \n",
    "# get needed references for stats collection\n",
    "champ_names = list(df)\n",
    "var_name = champs.columns[1:13]\n",
    "var_num = range(1, 13)\n",
    "\n",
    "# cumulative stats for each team\n",
    "for j in range(0, len(var_name)):\n",
    "\n",
    "    # merge games df with champion df for each stat\n",
    "    for i in range(0, 10):\n",
    "        df = pd.merge(df, champs.iloc[:, [0, var_num[j]]], left_on=champ_names[i], right_on='championId',\n",
    "                      suffixes=['_drop', '_drop'])\n",
    "        df.rename(columns={var_name[j]: var_name[j] + str(i + 1)}, inplace=True)\n",
    "\n",
    "    # drop duplicate columns created from merge\n",
    "    drop_y(df)\n",
    "\n",
    "    # aggregate stats for team 1\n",
    "    df['t1'] = df.iloc[:, -10:-5].sum(axis=1)\n",
    "    df = df.drop(df.iloc[:, -11:-6], axis=1)\n",
    "\n",
    "    # aggregate stats for team 2\n",
    "    df['t2'] = df.iloc[:, -6:-1].sum(axis=1)\n",
    "    df = df.drop(df.iloc[:, -7:-2], axis=1)\n",
    "\n",
    "    # take the stats difference between teams in reference to team 1\n",
    "    df['diff'] = df['t1'] - df['t2']\n",
    "    df.rename(columns={'diff': var_name[j]}, inplace=True)\n",
    "\n",
    "    # drop now unneeded 't1' and 't1' columns\n",
    "    df = df.drop(['t1', 't2'], axis=1)\n",
    "\n",
    "# drop gameId and champion id columns\n",
    "df = df.drop(df.iloc[:,0:10], axis=1)\n",
    "\n",
    "# standardize predictors\n",
    "df = pd.DataFrame(scaler.transform(df), columns=df.columns,\n",
    "                              index=df.index)"
   ]
  },
  {
   "cell_type": "code",
   "execution_count": 14,
   "metadata": {},
   "outputs": [
    {
     "data": {
      "text/html": [
       "<div>\n",
       "<style>\n",
       "    .dataframe thead tr:only-child th {\n",
       "        text-align: right;\n",
       "    }\n",
       "\n",
       "    .dataframe thead th {\n",
       "        text-align: left;\n",
       "    }\n",
       "\n",
       "    .dataframe tbody tr th {\n",
       "        vertical-align: top;\n",
       "    }\n",
       "</style>\n",
       "<table border=\"1\" class=\"dataframe\">\n",
       "  <thead>\n",
       "    <tr style=\"text-align: right;\">\n",
       "      <th></th>\n",
       "      <th>team1_champ1</th>\n",
       "      <th>team1_champ2</th>\n",
       "      <th>team1_champ3</th>\n",
       "      <th>team1_champ4</th>\n",
       "      <th>team1_champ5</th>\n",
       "      <th>team2_champ1</th>\n",
       "      <th>team2_champ2</th>\n",
       "      <th>team2_champ3</th>\n",
       "      <th>team2_champ4</th>\n",
       "      <th>team2_champ5</th>\n",
       "    </tr>\n",
       "  </thead>\n",
       "  <tbody>\n",
       "    <tr>\n",
       "      <th>0</th>\n",
       "      <td>4</td>\n",
       "      <td>28</td>\n",
       "      <td>27</td>\n",
       "      <td>81</td>\n",
       "      <td>43</td>\n",
       "      <td>134</td>\n",
       "      <td>2</td>\n",
       "      <td>29</td>\n",
       "      <td>25</td>\n",
       "      <td>50</td>\n",
       "    </tr>\n",
       "  </tbody>\n",
       "</table>\n",
       "</div>"
      ],
      "text/plain": [
       "   team1_champ1  team1_champ2  team1_champ3  team1_champ4  team1_champ5  \\\n",
       "0             4            28            27            81            43   \n",
       "\n",
       "   team2_champ1  team2_champ2  team2_champ3  team2_champ4  team2_champ5  \n",
       "0           134             2            29            25            50  "
      ]
     },
     "execution_count": 14,
     "metadata": {},
     "output_type": "execute_result"
    }
   ],
   "source": [
    "df"
   ]
  },
  {
   "cell_type": "code",
   "execution_count": 22,
   "metadata": {},
   "outputs": [
    {
     "data": {
      "text/plain": [
       "True"
      ]
     },
     "execution_count": 22,
     "metadata": {},
     "output_type": "execute_result"
    }
   ],
   "source": [
    "x = 1\n",
    "(x == 1 or x == 2)"
   ]
  }
 ],
 "metadata": {
  "kernelspec": {
   "display_name": "Python [default]",
   "language": "python",
   "name": "python3"
  },
  "language_info": {
   "codemirror_mode": {
    "name": "ipython",
    "version": 3
   },
   "file_extension": ".py",
   "mimetype": "text/x-python",
   "name": "python",
   "nbconvert_exporter": "python",
   "pygments_lexer": "ipython3",
   "version": "3.6.1"
  }
 },
 "nbformat": 4,
 "nbformat_minor": 2
}
